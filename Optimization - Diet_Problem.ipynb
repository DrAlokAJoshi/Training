{
 "cells": [
  {
   "cell_type": "code",
   "execution_count": null,
   "metadata": {
    "collapsed": false
   },
   "outputs": [
    {
     "name": "stderr",
     "output_type": "stream",
     "text": [
      "\u001b[32m\u001b[1m  Activating\u001b[22m\u001b[39m project at `c:\\Users\\alokj\\Documents\\Alok\\Career_2\\Classes_skills_certification\\Modeling-Sim - Julia\\Training_ex`\n"
     ]
    },
    {
     "data": {
      "text/plain": [
       "2"
      ]
     },
     "metadata": {},
     "output_type": "display_data"
    }
   ],
   "source": [
    "cd(@__DIR__)\n",
    "using Pkg, Base.Threads\n",
    "Pkg.activate(\".\")\n",
    "Threads.nthreads()"
   ]
  },
  {
   "cell_type": "code",
   "execution_count": null,
   "metadata": {},
   "outputs": [
    {
     "name": "stdout",
     "output_type": "stream",
     "text": [
      "Running HiGHS 1.8.1 (git hash: 4a7f24ac6): Copyright (c) 2024 HiGHS under MIT licence terms\n",
      "Coefficient ranges:\n",
      "  Matrix [1e+00, 5e+02]\n",
      "  Cost   [2e-01, 8e-01]\n",
      "  Bound  [0e+00, 0e+00]\n",
      "  RHS    [6e+00, 5e+02]\n",
      "Presolving model\n",
      "4 rows, 4 cols, 14 nonzeros  0s\n",
      "4 rows, 4 cols, 14 nonzeros  0s\n",
      "Presolve : Reductions: rows 4(-0); columns 4(-0); elements 14(-0) - Not reduced\n",
      "Problem not reduced by presolve: solving the LP\n",
      "Using EKK dual simplex solver - serial\n",
      "  Iteration        Objective     Infeasibilities num(sum)\n",
      "          0     0.0000000000e+00 Pr: 4(223.25) 0s\n",
      "          2     9.0000000000e-01 Pr: 0(0) 0s\n",
      "Model status        : Optimal\n",
      "Simplex   iterations: 2\n",
      "Objective value     :  9.0000000000e-01\n",
      "Relative P-D gap    :  1.1102230246e-16\n",
      "HiGHS run time      :          0.00\n",
      "variable values: 1-dimensional DenseAxisArray{Float64,1,...} with index sets:\n",
      "    Dimension 1, [\"brownies\", \"ice cream\", \"cola\", \"cheese cake\"]\n",
      "And data, a 4-element Vector{Float64}:\n",
      " 0.0\n",
      " 3.0\n",
      " 1.0\n",
      " 0.0\n",
      "Objetive value: 0.9000000000000001\n"
     ]
    }
   ],
   "source": [
    "using JuMP, HiGHS\n",
    "#Define model \n",
    "m = Model(HiGHS.Optimizer)\n",
    "#Food available\n",
    "S = [\"brownies\",\"ice cream\",\"cola\",\"cheese cake\"]\n",
    "#Non-negativity\n",
    "@variable(m, x[S] >= 0)\n",
    "#Minimum calories\n",
    "@constraint(m, 400x[\"brownies\"] + 200x[\"ice cream\"] + 150x[\"cola\"] + 500x[\"cheese cake\"] >= 500)\n",
    "#At least 6 grams of chocolate\n",
    "@constraint(m, 3x[\"brownies\"] + 2x[\"ice cream\"] >= 6)\n",
    "#At least 10 grams of sugar\n",
    "@constraint(m, 2x[\"brownies\"] + 2x[\"ice cream\"] + 4x[\"cola\"] + 4x[\"cheese cake\"] >= 10)\n",
    "#At least 8 grams of fat\n",
    "@constraint(m, 2x[\"brownies\"] + 4x[\"ice cream\"] + 1x[\"cola\"] + 5x[\"cheese cake\"] >= 8)\n",
    "#Minimize cost of consumption\n",
    "@objective(m, Min, 0.5x[\"brownies\"] + 0.2x[\"ice cream\"] + 0.3x[\"cola\"] + 0.8x[\"cheese cake\"])\n",
    "#Solve the optimization problem\n",
    "optimize!(m)\n",
    "#Determine consumption amounts\n",
    "println(\"variable values: \", value.(x))\n",
    "#Determine optimal cost of consumption\n",
    "println(\"Objetive value: \", objective_value(m))"
   ]
  },
  {
   "cell_type": "code",
   "execution_count": null,
   "metadata": {
    "collapsed": true
   },
   "outputs": [],
   "source": []
  }
 ],
 "metadata": {
  "kernelspec": {
   "display_name": "Python 3",
   "language": "python",
   "name": "python3"
  },
  "language_info": {
   "file_extension": ".jl",
   "mimetype": "application/julia",
   "name": "python",
   "version": "3.12.5"
  }
 },
 "nbformat": 4,
 "nbformat_minor": 0
}
